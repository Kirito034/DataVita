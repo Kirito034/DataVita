{
  "cells": [
    {
      "id": "cell_n3csfs63z",
      "cell_type": "code",
      "source": [
        "# Empty file. Add your code here."
      ],
      "metadata": {},
      "execution_count": null
    },
    {
      "id": "cell_9n039u4kg",
      "cell_type": "code",
      "source": [
        ""
      ],
      "metadata": {},
      "execution_count": null
    }
  ],
  "metadata": {
    "kernelspec": {
      "display_name": "Python 3",
      "language": "python",
      "name": "python3"
    },
    "language_info": {
      "codemirror_mode": {
        "name": "ipython",
        "version": 3
      },
      "file_extension": ".py",
      "mimetype": "text/x-python",
      "name": "python",
      "nbconvert_exporter": "python",
      "pygments_lexer": "ipython3",
      "version": "3.8.10"
    }
  },
  "nbformat": 4,
  "nbformat_minor": 4
}
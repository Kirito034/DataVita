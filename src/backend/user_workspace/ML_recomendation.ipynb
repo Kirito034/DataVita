{
  "cells": [
    {
      "id": "cell_f3xj0jumg",
      "cell_type": "code",
      "source": [
        "import numpy as np\r",
        "import matplotlib.pyplot as plt\r",
        "from sklearn.linear_model import LinearRegression\r",
        "\r",
        "# Generate sample data\r",
        "np.random.seed(42)\r",
        "X = np.random.rand(100, 1) * 10  # Random values between 0 and 10\r",
        "y = 2.5 * X + np.random.randn(100, 1) * 2  # Linear relation with noise\r",
        "\r",
        "# Train a linear regression model\r",
        "model = LinearRegression()\r",
        "model.fit(X, y)\r",
        "y_pred = model.predict(X)\r",
        "\r",
        "# Plot the data points and regression line\r",
        "plt.scatter(X, y, color='blue', label='Data points')\r",
        "plt.plot(X, y_pred, color='red', linewidth=2, label='Regression line')\r",
        "\r",
        "# Labels and title\r",
        "plt.xlabel('X')\r",
        "plt.ylabel('y')\r",
        "plt.title('Linear Regression using Matplotlib')\r",
        "plt.legend()\r",
        "plt.show()\r",
        "print(\"Succesful\")"
      ],
      "metadata": {},
      "execution_count": null
    },
    {
      "id": "cell_tztoqmxl9",
      "cell_type": "code",
      "source": [
        "this is version 4"
      ],
      "metadata": {},
      "execution_count": null
    },
    {
      "id": "cell_97g5h78rl",
      "cell_type": "code",
      "source": [
        "this is version 3"
      ],
      "metadata": {},
      "execution_count": null
    }
  ],
  "metadata": {
    "kernelspec": {
      "display_name": "Python 3",
      "language": "python",
      "name": "python3"
    },
    "language_info": {
      "codemirror_mode": {
        "name": "ipython",
        "version": 3
      },
      "file_extension": ".py",
      "mimetype": "text/x-python",
      "name": "python",
      "nbconvert_exporter": "python",
      "pygments_lexer": "ipython3",
      "version": "3.8.10"
    }
  },
  "nbformat": 4,
  "nbformat_minor": 4
}